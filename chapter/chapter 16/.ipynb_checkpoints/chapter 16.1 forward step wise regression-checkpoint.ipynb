{
 "cells": [
  {
   "cell_type": "code",
   "execution_count": 245,
   "metadata": {
    "ExecuteTime": {
     "end_time": "2020-07-09T13:53:41.421080Z",
     "start_time": "2020-07-09T13:53:41.416463Z"
    }
   },
   "outputs": [],
   "source": [
    "import numpy as np\n",
    "import pandas as pd"
   ]
  },
  {
   "cell_type": "markdown",
   "metadata": {},
   "source": [
    "#### forward stepwise regression"
   ]
  },
  {
   "cell_type": "code",
   "execution_count": 246,
   "metadata": {
    "ExecuteTime": {
     "end_time": "2020-07-09T13:53:41.752852Z",
     "start_time": "2020-07-09T13:53:41.748079Z"
    }
   },
   "outputs": [],
   "source": [
    "from sklearn.linear_model import LogisticRegression\n",
    "from sklearn.linear_model import LinearRegression\n",
    "import statsmodels.formula.api as smf"
   ]
  },
  {
   "cell_type": "code",
   "execution_count": 247,
   "metadata": {
    "ExecuteTime": {
     "end_time": "2020-07-09T13:53:42.064030Z",
     "start_time": "2020-07-09T13:53:42.047076Z"
    }
   },
   "outputs": [],
   "source": [
    "\n",
    "\n",
    "def forward_selected(data: pd.DataFrame, response: str, regressor):\n",
    "    \"\"\"Linear model designed by forward selection.\n",
    "\n",
    "    Parameters:\n",
    "    -----------\n",
    "    data : pandas DataFrame with all possible predictors and response\n",
    "\n",
    "    response: string, name of response column in data\n",
    "\n",
    "    Returns:\n",
    "    --------\n",
    "    model: an \"optimal\" fitted statsmodels linear model\n",
    "           with an intercept\n",
    "           selected by forward selection\n",
    "           evaluated by adjusted R-squared\n",
    "    \"\"\"\n",
    "    remaining = set(data.columns)\n",
    "    remaining.remove(response)\n",
    "    selected = []\n",
    "    current_score, best_new_score = 0.0, 0.0\n",
    "    count = 1; \n",
    "    #rsq = [];\n",
    "    while remaining and current_score == best_new_score:\n",
    "        scores_with_candidates = []\n",
    "        candidate_params = dict();\n",
    "        misclass_rate = dict();\n",
    "        for candidate in remaining:\n",
    "#             formula = \"{} ~ {} + 1\".format(response,\n",
    "#                                            ' + '.join(selected + [candidate]))\n",
    "#             model = smf.ols(formula, data).fit()\n",
    "#             score = model.rsquared_adj\n",
    "#             candidate_params[candidate] = model.params\n",
    "            X = data[selected+[candidate]]\n",
    "            y = data[response]\n",
    "            model = regressor.fit(X, y)\n",
    "            score = model.score(X, y) # rsq for OLS, \n",
    "            \n",
    "            # misclaasifcation rate. \n",
    "            y_pred = model.predict(X)\n",
    "            y_pred = [1 if elem>0 else -1 for elem in y_pred]\n",
    "            misclass_rate[candidate] = np.sum(y_pred!=y)/len(y)\n",
    "            \n",
    "            candidate_params[candidate] = regressor.coef_\n",
    "            \n",
    "            scores_with_candidates.append((score, candidate))\n",
    "        \n",
    "        # find the largest one to increase. \n",
    "        scores_with_candidates.sort()\n",
    "        best_new_score, best_candidate = scores_with_candidates.pop()\n",
    "        if current_score < best_new_score:\n",
    "            remaining.remove(best_candidate)\n",
    "            selected.append(best_candidate)\n",
    "            current_score = best_new_score\n",
    "            #rsq.append(best_new_score)\n",
    "            df = pd.DataFrame(candidate_params[best_candidate], index=selected).T\n",
    "            df['rsq'] = best_new_score\n",
    "            df['count'] = count\n",
    "            df['mis_class_rate'] = misclass_rate[best_candidate]\n",
    "            \n",
    "            dfs = df if count ==1 else dfs.append(df, sort=False)\n",
    "            count += 1\n",
    "            \n",
    "    return selected, dfs "
   ]
  },
  {
   "cell_type": "code",
   "execution_count": 180,
   "metadata": {
    "ExecuteTime": {
     "end_time": "2020-07-09T13:34:48.633465Z",
     "start_time": "2020-07-09T13:34:48.627480Z"
    },
    "collapsed": true
   },
   "outputs": [
    {
     "data": {
      "text/plain": [
       "['spam',\n",
       " 'make',\n",
       " 'address',\n",
       " 'all',\n",
       " 'three_d',\n",
       " 'our',\n",
       " 'over',\n",
       " 'remove',\n",
       " 'internet',\n",
       " 'order',\n",
       " 'mail',\n",
       " 'receive',\n",
       " 'will',\n",
       " 'people',\n",
       " 'report',\n",
       " 'addresses',\n",
       " 'free',\n",
       " 'business',\n",
       " 'email',\n",
       " 'you',\n",
       " 'credit',\n",
       " 'your',\n",
       " 'font',\n",
       " 'triple_zero',\n",
       " 'money',\n",
       " 'hp',\n",
       " 'hpl',\n",
       " 'george',\n",
       " 'six_five_zero',\n",
       " 'lab',\n",
       " 'labs',\n",
       " 'telnet',\n",
       " 'eight_five_seven',\n",
       " 'data',\n",
       " 'four_one_five',\n",
       " 'eight_five',\n",
       " 'technology',\n",
       " 'one_triple_nine',\n",
       " 'parts',\n",
       " 'pm',\n",
       " 'direct',\n",
       " 'cs',\n",
       " 'meeting',\n",
       " 'original',\n",
       " 'project',\n",
       " 're',\n",
       " 'edu',\n",
       " 'table',\n",
       " 'conference',\n",
       " 'ch_semicolumn',\n",
       " 'ch_parenthesis',\n",
       " 'ch_bracket',\n",
       " 'ch_exclamation',\n",
       " 'ch_dollarsign',\n",
       " 'ch_pound',\n",
       " 'crl_ave',\n",
       " 'crl_long',\n",
       " 'crl_tot']"
      ]
     },
     "execution_count": 180,
     "metadata": {},
     "output_type": "execute_result"
    }
   ],
   "source": [
    "data.columns.values.tolist()"
   ]
  },
  {
   "cell_type": "code",
   "execution_count": 243,
   "metadata": {
    "ExecuteTime": {
     "end_time": "2020-07-09T13:52:55.579711Z",
     "start_time": "2020-07-09T13:52:55.551253Z"
    }
   },
   "outputs": [
    {
     "data": {
      "text/plain": [
       "0.2536405129319713"
      ]
     },
     "execution_count": 243,
     "metadata": {},
     "output_type": "execute_result"
    }
   ],
   "source": [
    "regressor = LogisticRegression(penalty='none')\n",
    "regressor = LinearRegression()\n",
    "selected = ['your', 'ch_dollarsign']\n",
    "response = 'spam'\n",
    "X = data[selected]\n",
    "y = data[response]\n",
    "model = regressor.fit(X, y)\n",
    "candidate_params = regressor.coef_\n",
    "\n",
    "y_pred = model.predict(X)\n",
    "y_pred = [1 if elem>0 else -1 for elem in y_pred]\n",
    "misclass_rate = np.sum(y_pred!=y)/len(y)\n",
    "\n",
    "misclass_rate"
   ]
  },
  {
   "cell_type": "code",
   "execution_count": 233,
   "metadata": {
    "ExecuteTime": {
     "end_time": "2020-07-09T13:50:52.933188Z",
     "start_time": "2020-07-09T13:50:52.920222Z"
    }
   },
   "outputs": [
    {
     "data": {
      "text/html": [
       "<div>\n",
       "<style scoped>\n",
       "    .dataframe tbody tr th:only-of-type {\n",
       "        vertical-align: middle;\n",
       "    }\n",
       "\n",
       "    .dataframe tbody tr th {\n",
       "        vertical-align: top;\n",
       "    }\n",
       "\n",
       "    .dataframe thead th {\n",
       "        text-align: right;\n",
       "    }\n",
       "</style>\n",
       "<table border=\"1\" class=\"dataframe\">\n",
       "  <thead>\n",
       "    <tr style=\"text-align: right;\">\n",
       "      <th></th>\n",
       "      <th>your</th>\n",
       "      <th>ch_dollarsign</th>\n",
       "    </tr>\n",
       "  </thead>\n",
       "  <tbody>\n",
       "    <tr>\n",
       "      <th>0</th>\n",
       "      <td>0.280242</td>\n",
       "      <td>1.092581</td>\n",
       "    </tr>\n",
       "  </tbody>\n",
       "</table>\n",
       "</div>"
      ],
      "text/plain": [
       "       your  ch_dollarsign\n",
       "0  0.280242       1.092581"
      ]
     },
     "execution_count": 233,
     "metadata": {},
     "output_type": "execute_result"
    }
   ],
   "source": [
    "pd.DataFrame(candidate_params,index =selected).T"
   ]
  },
  {
   "cell_type": "code",
   "execution_count": 220,
   "metadata": {
    "ExecuteTime": {
     "end_time": "2020-07-09T13:44:58.987995Z",
     "start_time": "2020-07-09T13:44:58.976001Z"
    }
   },
   "outputs": [
    {
     "data": {
      "text/plain": [
       "0.22089984431429222"
      ]
     },
     "execution_count": 220,
     "metadata": {},
     "output_type": "execute_result"
    }
   ],
   "source": [
    "y_pred = model.predict(X)\n",
    "\n",
    "res = y-y_pred\n",
    "rsq = 1 - np.sum(res**2)/np.sum((y-np.mean(y))**2)\n",
    "rsq"
   ]
  },
  {
   "cell_type": "code",
   "execution_count": 183,
   "metadata": {
    "ExecuteTime": {
     "end_time": "2020-07-09T13:36:01.250621Z",
     "start_time": "2020-07-09T13:36:01.243638Z"
    }
   },
   "outputs": [
    {
     "data": {
      "text/plain": [
       "0.11714844599000217"
      ]
     },
     "execution_count": 183,
     "metadata": {},
     "output_type": "execute_result"
    }
   ],
   "source": [
    "np.mean(res)"
   ]
  },
  {
   "cell_type": "markdown",
   "metadata": {},
   "source": [
    "### data"
   ]
  },
  {
   "cell_type": "code",
   "execution_count": 248,
   "metadata": {
    "ExecuteTime": {
     "end_time": "2020-07-09T13:53:55.658156Z",
     "start_time": "2020-07-09T13:53:55.397289Z"
    }
   },
   "outputs": [
    {
     "name": "stdout",
     "output_type": "stream",
     "text": [
      "['spam', 'make', 'address', 'all', '3d', 'our', 'over', 'remove', 'internet', 'order', 'mail', 'receive', 'will', 'people', 'report', 'addresses', 'free', 'business', 'email', 'you', 'credit', 'your', 'font', '000', 'money', 'hp', 'hpl', 'george', '650', 'lab', 'labs', 'telnet', '857', 'data', '415', '85', 'technology', '1999', 'parts', 'pm', 'direct', 'cs', 'meeting', 'original', 'project', 're', 'edu', 'table', 'conference', 'ch;', 'ch(', 'ch[', 'ch!', 'ch$', 'ch#', 'crl.ave', 'crl.long', 'crl.tot']\n"
     ]
    }
   ],
   "source": [
    "filename = './data/spam.csv'\n",
    "data = pd.read_csv(filename)\n",
    "data = data.drop('testid', axis=1)\n",
    "data['spam'] = data['spam'].apply(lambda x: 1 if x is True else -1)\n",
    "data.head()\n",
    "print(data.columns.values.tolist())\n",
    "data.rename(columns={\n",
    " 'ch;': 'ch_semicolumn',\n",
    " 'ch(': 'ch_parenthesis',\n",
    " 'ch[': 'ch_bracket',\n",
    " 'ch!': 'ch_exclamation',\n",
    " 'ch$': 'ch_dollarsign',\n",
    " 'ch#': 'ch_pound',\n",
    " '3d': 'three_d',\n",
    " '000': 'triple_zero',\n",
    " '857': 'eight_five_seven',\n",
    " '415': 'four_one_five',\n",
    " '85': 'eight_five',\n",
    " '1999': 'one_triple_nine',\n",
    " '650': 'six_five_zero',\n",
    " 'crl.ave': 'crl_ave',\n",
    " 'crl.long': 'crl_long',\n",
    " 'crl.tot': 'crl_tot'\n",
    "},\n",
    "           inplace = True)"
   ]
  },
  {
   "cell_type": "code",
   "execution_count": 249,
   "metadata": {
    "ExecuteTime": {
     "end_time": "2020-07-09T13:53:56.098212Z",
     "start_time": "2020-07-09T13:53:56.090757Z"
    }
   },
   "outputs": [],
   "source": [
    "from sklearn.model_selection import train_test_split"
   ]
  },
  {
   "cell_type": "code",
   "execution_count": 250,
   "metadata": {
    "ExecuteTime": {
     "end_time": "2020-07-09T13:53:56.689969Z",
     "start_time": "2020-07-09T13:53:56.679982Z"
    }
   },
   "outputs": [],
   "source": [
    "np.random.seed(30)\n",
    "train_data, test_data = train_test_split(data, test_size = 0.33)"
   ]
  },
  {
   "cell_type": "code",
   "execution_count": 251,
   "metadata": {
    "ExecuteTime": {
     "end_time": "2020-07-09T13:53:57.235005Z",
     "start_time": "2020-07-09T13:53:57.229898Z"
    }
   },
   "outputs": [],
   "source": [
    "from sklearn.compose import ColumnTransformer\n",
    "from sklearn.preprocessing import StandardScaler"
   ]
  },
  {
   "cell_type": "code",
   "execution_count": 252,
   "metadata": {
    "ExecuteTime": {
     "end_time": "2020-07-09T13:53:57.478565Z",
     "start_time": "2020-07-09T13:53:57.472583Z"
    }
   },
   "outputs": [],
   "source": [
    "xnames = data.columns.values.tolist()\n",
    "xnames.remove('spam')"
   ]
  },
  {
   "cell_type": "markdown",
   "metadata": {},
   "source": [
    "zscore the train data' X."
   ]
  },
  {
   "cell_type": "code",
   "execution_count": 253,
   "metadata": {
    "ExecuteTime": {
     "end_time": "2020-07-09T13:53:57.914994Z",
     "start_time": "2020-07-09T13:53:57.883046Z"
    }
   },
   "outputs": [],
   "source": [
    "preprocessor = ColumnTransformer([('zscore', StandardScaler(), xnames )],\n",
    "                                remainder='passthrough')\n",
    "train_x = preprocessor.fit_transform(train_data[xnames])\n",
    "train_zscore_data = pd.DataFrame(train_x, columns=xnames, index=train_data.index)\n",
    "train_zscore_data['spam'] = train_data['spam']"
   ]
  },
  {
   "cell_type": "markdown",
   "metadata": {},
   "source": [
    "apply the same zscore transform to the test data"
   ]
  },
  {
   "cell_type": "code",
   "execution_count": 254,
   "metadata": {
    "ExecuteTime": {
     "end_time": "2020-07-09T13:53:58.421735Z",
     "start_time": "2020-07-09T13:53:58.404749Z"
    }
   },
   "outputs": [],
   "source": [
    "test_x = preprocessor.transform(test_data[xnames])\n",
    "test_zscore_data = pd.DataFrame(test_x, columns=xnames, index=test_data.index)\n",
    "test_zscore_data['spam'] = test_data['spam']"
   ]
  },
  {
   "cell_type": "code",
   "execution_count": null,
   "metadata": {
    "ExecuteTime": {
     "start_time": "2020-07-09T13:55:39.234Z"
    }
   },
   "outputs": [],
   "source": [
    "regressor = LinearRegression()\n",
    "selected, linear_df = forward_selected(train_zscore_data, 'spam', regressor)"
   ]
  },
  {
   "cell_type": "markdown",
   "metadata": {
    "ExecuteTime": {
     "end_time": "2020-07-09T00:01:21.784246Z",
     "start_time": "2020-07-09T00:01:17.456Z"
    }
   },
   "source": [
    "#### Figure 16.1"
   ]
  },
  {
   "cell_type": "code",
   "execution_count": 257,
   "metadata": {
    "ExecuteTime": {
     "end_time": "2020-07-09T13:54:15.406518Z",
     "start_time": "2020-07-09T13:54:15.397542Z"
    }
   },
   "outputs": [
    {
     "name": "stdout",
     "output_type": "stream",
     "text": [
      "Populating the interactive namespace from numpy and matplotlib\n"
     ]
    }
   ],
   "source": [
    "%pylab inline"
   ]
  },
  {
   "cell_type": "code",
   "execution_count": 258,
   "metadata": {
    "ExecuteTime": {
     "end_time": "2020-07-09T13:54:15.951827Z",
     "start_time": "2020-07-09T13:54:15.411517Z"
    },
    "collapsed": true
   },
   "outputs": [
    {
     "data": {
      "text/plain": [
       "Text(0, 0.5, 'coefficient')"
      ]
     },
     "execution_count": 258,
     "metadata": {},
     "output_type": "execute_result"
    },
    {
     "data": {
      "image/png": "[encoded data removed]",
      "text/plain": [
       "<Figure size 432x288 with 1 Axes>"
      ]
     },
     "metadata": {
      "needs_background": "light"
     },
     "output_type": "display_data"
    }
   ],
   "source": [
    "df.fillna(0, inplace=True)\n",
    "for idx, name in enumerate(selected):\n",
    "    plt.plot(df['rsq'], df[name])\n",
    "    axvline(df.iloc[idx]['rsq'], alpha=0.3, color='gray')\n",
    "plt.title(\"Adjusted Rsq\")\n",
    "plt.xlabel('Rsq')\n",
    "plt.ylabel('coefficient')"
   ]
  },
  {
   "cell_type": "markdown",
   "metadata": {
    "ExecuteTime": {
     "end_time": "2020-07-09T13:00:17.517640Z",
     "start_time": "2020-07-09T13:00:17.510647Z"
    }
   },
   "source": [
    "#### Figure 16.2 \n"
   ]
  },
  {
   "cell_type": "code",
   "execution_count": 263,
   "metadata": {
    "ExecuteTime": {
     "end_time": "2020-07-09T13:55:27.510536Z",
     "start_time": "2020-07-09T13:55:27.298864Z"
    }
   },
   "outputs": [
    {
     "data": {
      "text/plain": [
       "[<matplotlib.lines.Line2D at 0x20b009de9b0>]"
      ]
     },
     "execution_count": 263,
     "metadata": {},
     "output_type": "execute_result"
    },
    {
     "data": {
      "image/png": "[encoded data removed]",
      "text/plain": [
       "<Figure size 432x288 with 1 Axes>"
      ]
     },
     "metadata": {
      "needs_background": "light"
     },
     "output_type": "display_data"
    }
   ],
   "source": [
    "linear_df = df\n",
    "nrow = np.shape(linear_df)[0]\n",
    "plt.plot(np.arange(nrow), linear_df['mis_class_rate'], '.', label='Forward−Stepwise Linear Regression')\n",
    "         "
   ]
  },
  {
   "cell_type": "code",
   "execution_count": null,
   "metadata": {},
   "outputs": [],
   "source": []
  }
 ],
 "metadata": {
  "kernelspec": {
   "display_name": "Python 3",
   "language": "python",
   "name": "python3"
  },
  "language_info": {
   "codemirror_mode": {
    "name": "ipython",
    "version": 3
   },
   "file_extension": ".py",
   "mimetype": "text/x-python",
   "name": "python",
   "nbconvert_exporter": "python",
   "pygments_lexer": "ipython3",
   "version": "3.7.1"
  },
  "toc": {
   "base_numbering": 1,
   "nav_menu": {},
   "number_sections": true,
   "sideBar": true,
   "skip_h1_title": false,
   "title_cell": "Table of Contents",
   "title_sidebar": "Contents",
   "toc_cell": false,
   "toc_position": {},
   "toc_section_display": true,
   "toc_window_display": true
  }
 },
 "nbformat": 4,
 "nbformat_minor": 2
}
