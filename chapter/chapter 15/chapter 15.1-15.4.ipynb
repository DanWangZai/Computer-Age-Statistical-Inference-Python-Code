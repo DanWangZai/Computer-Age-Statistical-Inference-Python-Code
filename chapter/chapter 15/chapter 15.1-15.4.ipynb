{
 "cells": [
  {
   "cell_type": "markdown",
   "metadata": {
    "ExecuteTime": {
     "end_time": "2020-06-18T19:55:49.331089Z",
     "start_time": "2020-06-18T19:55:49.322912Z"
    }
   },
   "source": [
    "**Summary:** This notebook intends to reproduce the False Discovery Rate analysis on Prostate data of chapter 15. It is not intend to include all the mathematical details, please refer to the book for that. "
   ]
  },
  {
   "cell_type": "code",
   "execution_count": 1,
   "metadata": {
    "ExecuteTime": {
     "end_time": "2020-07-01T22:24:56.590456Z",
     "start_time": "2020-07-01T22:24:54.448124Z"
    }
   },
   "outputs": [],
   "source": [
    "import pandas as pd\n",
    "import numpy as np\n",
    "import os\n",
    "from scipy import stats\n",
    "from scipy.stats import t\n",
    "from scipy.stats import norm\n",
    "import seaborn as sns"
   ]
  },
  {
   "cell_type": "markdown",
   "metadata": {},
   "source": [
    "### Sec 15.1 (Figure 15.1)\n",
    "In this section, we read in the prostate data, run the two-sample t-test, construct the z-stat from the t-stat. Z-stat is standard normal. We looked at the p-value of the z-stat, and were interested in finding the threshold to reject small p-values under large number of testing. \n",
    "\n",
    "Traditional method are Bonferroni bound and Holm's bound."
   ]
  },
  {
   "cell_type": "code",
   "execution_count": 2,
   "metadata": {
    "ExecuteTime": {
     "end_time": "2020-07-01T22:24:57.519459Z",
     "start_time": "2020-07-01T22:24:56.595416Z"
    }
   },
   "outputs": [],
   "source": [
    "filepath = r'.\\data'\n",
    "filename = os.path.join(filepath, 'prostmat.csv')\n",
    "data = pd.read_csv(filename)"
   ]
  },
  {
   "cell_type": "markdown",
   "metadata": {},
   "source": [
    "Data has 52 patients and 50 normal controls. each person is measured on the 6033 genes."
   ]
  },
  {
   "cell_type": "code",
   "execution_count": 3,
   "metadata": {
    "ExecuteTime": {
     "end_time": "2020-07-01T22:24:57.529911Z",
     "start_time": "2020-07-01T22:24:57.521415Z"
    }
   },
   "outputs": [
    {
     "name": "stdout",
     "output_type": "stream",
     "text": [
      "number of genes = 6033, number of observations = 102.\n"
     ]
    }
   ],
   "source": [
    "num_gene, num_obs = data.shape\n",
    "print(\"number of genes = {}, number of observations = {}.\".format(num_gene, num_obs))"
   ]
  },
  {
   "cell_type": "markdown",
   "metadata": {},
   "source": [
    "**t-stats:**\n",
    "\n",
    "Compare the group of patient and group of control, and calculate the t_stats."
   ]
  },
  {
   "cell_type": "code",
   "execution_count": 4,
   "metadata": {
    "ExecuteTime": {
     "end_time": "2020-07-01T22:25:12.992525Z",
     "start_time": "2020-07-01T22:24:57.537887Z"
    }
   },
   "outputs": [],
   "source": [
    "control = [x for x in data.columns if 'control' in x]\n",
    "patient = [x for x in data.columns if 'cancer' in x]\n",
    "\n",
    "t_stat = data.apply(lambda x: stats.ttest_ind(x[patient], x[control])[0], axis = 1)\n",
    "df = data.shape[1] - 2"
   ]
  },
  {
   "cell_type": "markdown",
   "metadata": {},
   "source": [
    "**Calculate the z-stats**:\n",
    "\n",
    "The z-stat is as: $z = \\phi^{-1}(F_{100}(t)) \\sim Normal(0,1)$, where $F_{100}$ is the cumulative density function of the student t with 100 d.f, $\\Phi$ is the cumulative density function of the standard normal variable. \n",
    "\n",
    "The z-stat will be the driving horse in the following analysis. We looked at the p-value of each z-stats, and rejected the cases with small $p_i$. The question is how to set the threshold for rejecting the $p_i$. "
   ]
  },
  {
   "cell_type": "code",
   "execution_count": 5,
   "metadata": {
    "ExecuteTime": {
     "end_time": "2020-07-01T22:25:13.012312Z",
     "start_time": "2020-07-01T22:25:12.999345Z"
    }
   },
   "outputs": [],
   "source": [
    "z = norm.ppf(t.cdf(t_stat, df))"
   ]
  },
  {
   "cell_type": "markdown",
   "metadata": {},
   "source": [
    "plot the histogram of the z-stats"
   ]
  },
  {
   "cell_type": "code",
   "execution_count": 6,
   "metadata": {
    "ExecuteTime": {
     "end_time": "2020-07-01T22:25:13.362112Z",
     "start_time": "2020-07-01T22:25:13.016830Z"
    }
   },
   "outputs": [
    {
     "name": "stdout",
     "output_type": "stream",
     "text": [
      "Populating the interactive namespace from numpy and matplotlib\n"
     ]
    },
    {
     "name": "stderr",
     "output_type": "stream",
     "text": [
      "C:\\Users\\zhuoz\\Anaconda3\\lib\\site-packages\\IPython\\core\\magics\\pylab.py:160: UserWarning: pylab import has clobbered these variables: ['norm']\n",
      "`%matplotlib` prevents importing * from pylab and numpy\n",
      "  \"\\n`%matplotlib` prevents importing * from pylab and numpy\"\n"
     ]
    },
    {
     "data": {
      "text/plain": [
       "Text(0.5, 0, 'Z-stat')"
      ]
     },
     "execution_count": 6,
     "metadata": {},
     "output_type": "execute_result"
    },
    {
     "data": {
      "image/png": "[encoded data removed]",
      "text/plain": [
       "<Figure size 432x360 with 1 Axes>"
      ]
     },
     "metadata": {
      "needs_background": "light"
     },
     "output_type": "display_data"
    }
   ],
   "source": [
    "%pylab inline\n",
    "\n",
    "from scipy.stats import norm\n",
    "\n",
    "plt.figure(figsize = (6, 5))\n",
    "plt.hist(z, density = True, bins = 20, lw=3, edgecolor = 'g', fc = \"None\", label = 'hist')\n",
    "\n",
    "xmin, xmax = plt.xlim()\n",
    "x = np.linspace(xmin, xmax, 100)\n",
    "p = norm.pdf(x, 0, 1) #mu, std)\n",
    "plt.plot(x, p, 'k', linewidth = 2, label = 'normal(0,1)')\n",
    "\n",
    "# if the z is fit to normal\n",
    "mu, std, = norm.fit(z)\n",
    "p = norm.pdf(x, mu, std)\n",
    "plt.plot(x, p, 'r--', linewidth = 2, label = 'fitted normal')\n",
    "\n",
    "plt.legend()\n",
    "plt.title('Density of the Z-stat')\n",
    "plt.xlabel('Z-stat')"
   ]
  },
  {
   "cell_type": "markdown",
   "metadata": {
    "ExecuteTime": {
     "end_time": "2020-06-18T19:47:07.396184Z",
     "start_time": "2020-06-18T19:47:07.387939Z"
    }
   },
   "source": [
    "plot above is the figure 15-1 in the CASI. The difference is that they plot the count, while I plot the density. \n",
    "\n",
    "Under the Null hypothesis, the histogram should follow density function of the normal(0,1), (the black line). Apparently it does not.\n",
    "\n",
    "The dotted red line is fit the Z-stats to normal($\\mu$, $\\sigma$), and plot the density of this normal distribution. "
   ]
  },
  {
   "cell_type": "markdown",
   "metadata": {},
   "source": [
    "The book discussed two traditional methods to determine the threshold for p-value for multi-test: \n",
    "\n",
    "1. For classical Bonferroni Interval to reject, it is: $\\Phi^{-1}(0.05/6033)$\n",
    "\n",
    "2. Holm’s procedure\n",
    "\n",
    "In the book, only one sided p-value is considered, (corresponding to large positive Z). In reality, it is more reasonable to consider two-sided p-value. We just follow the book's convention here. "
   ]
  },
  {
   "cell_type": "code",
   "execution_count": 7,
   "metadata": {
    "ExecuteTime": {
     "end_time": "2020-07-01T22:25:13.372084Z",
     "start_time": "2020-07-01T22:25:13.364106Z"
    }
   },
   "outputs": [
    {
     "data": {
      "text/plain": [
       "4.306637362740473"
      ]
     },
     "execution_count": 7,
     "metadata": {},
     "output_type": "execute_result"
    }
   ],
   "source": [
    "Bonferroni_threshold = -1 * norm.ppf(0.05/6033)\n",
    "Bonferroni_threshold"
   ]
  },
  {
   "cell_type": "markdown",
   "metadata": {},
   "source": [
    "Four cases are rejected by Bonferroni_threshold:"
   ]
  },
  {
   "cell_type": "code",
   "execution_count": 8,
   "metadata": {
    "ExecuteTime": {
     "end_time": "2020-07-01T22:25:13.390747Z",
     "start_time": "2020-07-01T22:25:13.374592Z"
    }
   },
   "outputs": [
    {
     "data": {
      "text/plain": [
       "4"
      ]
     },
     "execution_count": 8,
     "metadata": {},
     "output_type": "execute_result"
    }
   ],
   "source": [
    "len([x for x in z if  x > Bonferroni_threshold])"
   ]
  },
  {
   "cell_type": "markdown",
   "metadata": {},
   "source": [
    "### Sec 15.2 (Figure 15.3)\n",
    "\n",
    "We then looked at using False-Discovery-Rate to conduct multiple testing and reproduce figure 15.3. \n",
    "\n",
    "Let $N_0$ be the number of cases labeled as Non-Null but actually is Null, $N$ be the total number of cases that is labeled as Non-Null. **False-Discovery-Rate** is: \n",
    "\n",
    "$$\\frac{N_1}{N}$$\n",
    "\n",
    "To control FDR to be less than the given $q$ (usually choose to be 0.1), one can do this:\n",
    "\n",
    "   ordering the observed p-values from smallest to largest, define $i_{max}$ to be the largest index for which\n",
    "$$p_i \\leq \\frac{i}{N} q$$\n",
    "\n",
    "Then reject $H_{0(i)}$ for $i < i_{max}$, accept otherwise.\n",
    "\n",
    "Below we plot the ordered p-value, the FDR curve and the Holm: start-line is the p-values, red-line is the FDR rule, green line is the Holm's rule. \n"
   ]
  },
  {
   "cell_type": "code",
   "execution_count": 9,
   "metadata": {
    "ExecuteTime": {
     "end_time": "2020-07-01T22:25:13.619136Z",
     "start_time": "2020-07-01T22:25:13.393738Z"
    }
   },
   "outputs": [
    {
     "data": {
      "text/plain": [
       "<matplotlib.legend.Legend at 0x1812a5b3be0>"
      ]
     },
     "execution_count": 9,
     "metadata": {},
     "output_type": "execute_result"
    },
    {
     "data": {
      "image/png": "[encoded data removed]",
      "text/plain": [
       "<Figure size 432x288 with 1 Axes>"
      ]
     },
     "metadata": {
      "needs_background": "light"
     },
     "output_type": "display_data"
    }
   ],
   "source": [
    "pvalue = 1 - norm.cdf(z)\n",
    "sort_pvalue = sorted(pvalue)\n",
    "n = 50\n",
    "q = 0.1\n",
    "a = q\n",
    "plt.plot(sort_pvalue[:n], '*', label = 'pvalue')\n",
    "fdr = [i/num_gene * q for i in np.arange(1, n+1)]\n",
    "holm = [a / (num_gene-i+1) for i in np.arange(1, n+1)]\n",
    "plt.plot(fdr, color = 'r', label = 'FDR')\n",
    "plt.plot(holm, color = 'g', label = 'Holm')\n",
    "plt.legend()"
   ]
  },
  {
   "cell_type": "markdown",
   "metadata": {},
   "source": [
    "We  could calculate the number of case rejected under FDR rule:"
   ]
  },
  {
   "cell_type": "code",
   "execution_count": 10,
   "metadata": {
    "ExecuteTime": {
     "end_time": "2020-07-01T22:25:13.631105Z",
     "start_time": "2020-07-01T22:25:13.621132Z"
    }
   },
   "outputs": [
    {
     "data": {
      "text/plain": [
       "27"
      ]
     },
     "execution_count": 10,
     "metadata": {},
     "output_type": "execute_result"
    }
   ],
   "source": [
    "len([x for (x, y ) in zip(sort_pvalue, fdr) if x <= y])"
   ]
  },
  {
   "cell_type": "markdown",
   "metadata": {},
   "source": [
    "The number of cases rejected under the Holm rule:"
   ]
  },
  {
   "cell_type": "code",
   "execution_count": 11,
   "metadata": {
    "ExecuteTime": {
     "end_time": "2020-07-01T22:25:13.642075Z",
     "start_time": "2020-07-01T22:25:13.634097Z"
    }
   },
   "outputs": [
    {
     "data": {
      "text/plain": [
       "6"
      ]
     },
     "execution_count": 11,
     "metadata": {},
     "output_type": "execute_result"
    }
   ],
   "source": [
    "len([x for (x, y ) in zip(sort_pvalue, holm) if x <= y])"
   ]
  },
  {
   "cell_type": "markdown",
   "metadata": {
    "ExecuteTime": {
     "end_time": "2020-06-21T12:17:32.586633Z",
     "start_time": "2020-06-21T12:17:32.579649Z"
    }
   },
   "source": [
    "**Note:** in the book, the case rejected under FDR/Holm are 28 vs 7, while I get 27 vs 6 here. "
   ]
  },
  {
   "cell_type": "markdown",
   "metadata": {},
   "source": [
    "### Sec 15.4 (Figure 15.5)"
   ]
  },
  {
   "cell_type": "markdown",
   "metadata": {},
   "source": [
    "Using the same notation as the book, \n",
    "Let $F_0(z)$ denote the CDF of the standard normal distribution, $S_0(z)$ the survival function (which is $1 - F_0(z)$); the $F(z)$ denote the CDF of the mixture distribution and $S(z)$ the corresponding survival function. \n",
    "\n",
    "**Tail-area FDR:**\n",
    "\n",
    "In the book, the Bayes discovery rate is shown for $Z_0>0$ as:\n",
    "  \n",
    "$$\\hat{Fdr(Z_0)}=\\pi_0 \\frac{S_0(Z_0)}{ \\hat{S}(Z_0)},$$\n",
    "\n",
    "where $\\pi_0$ is taken as 1, $S_0(Z_0)$ is the survival function of standard normal, $\\hat{S}(Z_0)$ is estimated by $\\frac{\\sum_i 1_{Z_i > Z_0}}{N}$.\n",
    "\n",
    "Note shown in the book, but we can derive easily for $Z_0 < 0$, the $Fdr$ is:\n",
    "$$\\hat{Fdr(Z_0)}=\\pi_0 \\frac{F_0(Z_0)}{ \\hat{F}(Z_0)}.$$\n",
    "\n",
    "\n",
    "**Local FDR:**\n",
    "\n",
    "$$\\hat{fdr(Z_0)}=\\pi_0 \\frac{f_0(Z_0)}{ \\hat{f}(Z_0)},$$\n",
    "\n",
    "where $f_0(Z_0)$ is the standard normal density function, and $\\hat{f}(Z_0)$ is estimated from the histogram using Poisson regression, where the explanatory variables are polynomial with degree of freedom 4. "
   ]
  },
  {
   "cell_type": "markdown",
   "metadata": {},
   "source": [
    "####  Tail-area FDR\n",
    "\n",
    "We first calculate the tail-area FDR. "
   ]
  },
  {
   "cell_type": "code",
   "execution_count": 12,
   "metadata": {
    "ExecuteTime": {
     "end_time": "2020-07-01T22:25:13.664027Z",
     "start_time": "2020-07-01T22:25:13.649058Z"
    }
   },
   "outputs": [],
   "source": [
    "def calc_Fdr(val: np.float, z_vec: np.array ):\n",
    "    # calculate the bayes discovery rate. \n",
    "    if val >= 0:\n",
    "        s0 = 1 - norm.cdf(val)\n",
    "        s = len([x for x in z_vec if x > val])/len(z_vec)\n",
    "    else:\n",
    "        s0 = norm.cdf(val)\n",
    "        s = len([x for x in z_vec if x < val])/len(z_vec)\n",
    "    pi0 = 1\n",
    "    fdr = pi0 * s0 / s\n",
    "    return fdr"
   ]
  },
  {
   "cell_type": "code",
   "execution_count": 13,
   "metadata": {
    "ExecuteTime": {
     "end_time": "2020-07-01T22:25:14.791788Z",
     "start_time": "2020-07-01T22:25:13.670002Z"
    }
   },
   "outputs": [
    {
     "name": "stderr",
     "output_type": "stream",
     "text": [
      "C:\\Users\\zhuoz\\Anaconda3\\lib\\site-packages\\ipykernel_launcher.py:10: RuntimeWarning: divide by zero encountered in double_scalars\n",
      "  # Remove the CWD from sys.path while we load stuff.\n"
     ]
    },
    {
     "data": {
      "text/plain": [
       "[<matplotlib.lines.Line2D at 0x1812a601f98>]"
      ]
     },
     "execution_count": 13,
     "metadata": {},
     "output_type": "execute_result"
    },
    {
     "data": {
      "image/png": "[encoded data removed]",
      "text/plain": [
       "<Figure size 432x288 with 1 Axes>"
      ]
     },
     "metadata": {
      "needs_background": "light"
     },
     "output_type": "display_data"
    }
   ],
   "source": [
    "vals = np.linspace(-5, 5, 1000)\n",
    "Fdr = [calc_Fdr(val, z) for val in vals]\n",
    "plt.plot(vals, Fdr)\n",
    "plt.plot(vals, 0.2 * np.ones((len(vals), 1)), '--')"
   ]
  },
  {
   "cell_type": "markdown",
   "metadata": {},
   "source": [
    "#### Local FDR\n",
    "\n",
    "We then calculate the local fdr. "
   ]
  },
  {
   "cell_type": "code",
   "execution_count": 14,
   "metadata": {
    "ExecuteTime": {
     "end_time": "2020-07-01T22:25:15.758724Z",
     "start_time": "2020-07-01T22:25:14.793783Z"
    }
   },
   "outputs": [],
   "source": [
    "from sklearn.linear_model import PoissonRegressor\n",
    "import statsmodels.api as sm"
   ]
  },
  {
   "cell_type": "code",
   "execution_count": 15,
   "metadata": {
    "ExecuteTime": {
     "end_time": "2020-07-01T22:25:15.771656Z",
     "start_time": "2020-07-01T22:25:15.760686Z"
    }
   },
   "outputs": [],
   "source": [
    "class PolyPoissonReg:\n",
    "    def __init__(self, df:int = 4, fit_density: bool = False, do_orth: bool = True):\n",
    "        self.df = df\n",
    "        self.fit_density = fit_density\n",
    "        self.do_orth = do_orth\n",
    "    \n",
    "    def fit(self, z_vec: np.array):\n",
    "        # fit the model\n",
    "        hist_data, hist_bin = np.histogram(z_vec, bins = 100 , density = self.fit_density)\n",
    "        bin_center = 0.5 * (hist_bin[1:] + hist_bin[:-1])\n",
    "        X = np.transpose([np.hstack(bin_center**k) for k in np.arange(self.df+1)])\n",
    "        if self.do_orth is True:\n",
    "            X = np.linalg.qr(X)[0]\n",
    "            X[:,0] = 1\n",
    "        Y = hist_data\n",
    "        # Poisson regressor\n",
    "        model = PoissonRegressor(alpha = 0,  max_iter=2000, fit_intercept = False)\n",
    "        model.fit(X, Y)\n",
    "        Y_pred = model.predict(X)\n",
    "        \n",
    "        output = {'hist_data': hist_data, \n",
    "                  'hist_bin': hist_bin,\n",
    "                  'bin_center': bin_center,\n",
    "                  'Y_pred': Y_pred}\n",
    "        return output"
   ]
  },
  {
   "cell_type": "code",
   "execution_count": 16,
   "metadata": {
    "ExecuteTime": {
     "end_time": "2020-07-01T22:25:15.786616Z",
     "start_time": "2020-07-01T22:25:15.775645Z"
    }
   },
   "outputs": [],
   "source": [
    "def deviance(actual, predict):\n",
    "    mask = actual>0\n",
    "    ratio = predict/actual\n",
    "    D = 2* actual* (ratio - 1 - log(ratio))\n",
    "    S = np.sum(abs(D[mask]))\n",
    "    return S"
   ]
  },
  {
   "cell_type": "code",
   "execution_count": 17,
   "metadata": {
    "ExecuteTime": {
     "end_time": "2020-07-01T22:25:15.794594Z",
     "start_time": "2020-07-01T22:25:15.790605Z"
    }
   },
   "outputs": [],
   "source": [
    "import warnings\n",
    "warnings.filterwarnings('ignore')"
   ]
  },
  {
   "cell_type": "code",
   "execution_count": 19,
   "metadata": {
    "ExecuteTime": {
     "end_time": "2020-07-01T22:32:01.841487Z",
     "start_time": "2020-07-01T22:32:01.764693Z"
    }
   },
   "outputs": [],
   "source": [
    "deviance_df = pd.DataFrame(np.empty((1, 6)), columns = np.arange(1, 7))\n",
    "for df in np.arange(1, 7):\n",
    "    model = PolyPoissonReg(df, fit_density = False)\n",
    "    output = model.fit(z)\n",
    "    dev = deviance(output['hist_data'], output['Y_pred'])\n",
    "    deviance_df[df] = dev"
   ]
  },
  {
   "cell_type": "markdown",
   "metadata": {},
   "source": [
    "Here we show the deviance for different degree of polynmoial"
   ]
  },
  {
   "cell_type": "code",
   "execution_count": 20,
   "metadata": {
    "ExecuteTime": {
     "end_time": "2020-07-01T22:32:06.494683Z",
     "start_time": "2020-07-01T22:32:06.466209Z"
    }
   },
   "outputs": [
    {
     "data": {
      "text/html": [
       "<div>\n",
       "<style scoped>\n",
       "    .dataframe tbody tr th:only-of-type {\n",
       "        vertical-align: middle;\n",
       "    }\n",
       "\n",
       "    .dataframe tbody tr th {\n",
       "        vertical-align: top;\n",
       "    }\n",
       "\n",
       "    .dataframe thead th {\n",
       "        text-align: right;\n",
       "    }\n",
       "</style>\n",
       "<table border=\"1\" class=\"dataframe\">\n",
       "  <thead>\n",
       "    <tr style=\"text-align: right;\">\n",
       "      <th>degree of polynomial</th>\n",
       "      <th>1</th>\n",
       "      <th>2</th>\n",
       "      <th>3</th>\n",
       "      <th>4</th>\n",
       "      <th>5</th>\n",
       "      <th>6</th>\n",
       "    </tr>\n",
       "    <tr>\n",
       "      <th>deviance</th>\n",
       "      <th></th>\n",
       "      <th></th>\n",
       "      <th></th>\n",
       "      <th></th>\n",
       "      <th></th>\n",
       "      <th></th>\n",
       "    </tr>\n",
       "  </thead>\n",
       "  <tbody>\n",
       "    <tr>\n",
       "      <th>0</th>\n",
       "      <td>7810.8</td>\n",
       "      <td>165.6</td>\n",
       "      <td>164.9</td>\n",
       "      <td>76.4</td>\n",
       "      <td>75.7</td>\n",
       "      <td>75.9</td>\n",
       "    </tr>\n",
       "  </tbody>\n",
       "</table>\n",
       "</div>"
      ],
      "text/plain": [
       "degree of polynomial       1      2      3     4     5     6\n",
       "deviance                                                    \n",
       "0                     7810.8  165.6  164.9  76.4  75.7  75.9"
      ]
     },
     "execution_count": 20,
     "metadata": {},
     "output_type": "execute_result"
    }
   ],
   "source": [
    "deviance_df.columns.name = 'degree of polynomial'\n",
    "deviance_df.index.name = 'deviance'\n",
    "deviance_df.round(1)"
   ]
  },
  {
   "cell_type": "markdown",
   "metadata": {},
   "source": [
    "As can be seen, the deviance get to stabilized after df = 4. \n",
    "\n",
    "Here we also show the fit of the histogram with degree of freedom 4.\n",
    "\n",
    "**Note:** it is important to do the orthogonalization, otherwise, the estimation using PoissonRegressor won't converge. "
   ]
  },
  {
   "cell_type": "code",
   "execution_count": 21,
   "metadata": {
    "ExecuteTime": {
     "end_time": "2020-07-01T22:32:13.033364Z",
     "start_time": "2020-07-01T22:32:12.563894Z"
    }
   },
   "outputs": [
    {
     "data": {
      "text/plain": [
       "<matplotlib.legend.Legend at 0x1812b83afd0>"
      ]
     },
     "execution_count": 21,
     "metadata": {},
     "output_type": "execute_result"
    },
    {
     "data": {
      "image/png": "[encoded data removed]",
      "text/plain": [
       "<Figure size 576x432 with 1 Axes>"
      ]
     },
     "metadata": {
      "needs_background": "light"
     },
     "output_type": "display_data"
    }
   ],
   "source": [
    "model = PolyPoissonReg(df=4, fit_density = True, do_orth = True)\n",
    "output = model.fit(z)\n",
    "\n",
    "bin_center = output['bin_center']\n",
    "hist_data = output['hist_data']\n",
    "hist_bin = output['hist_bin']\n",
    "Y_pred = output['Y_pred']\n",
    "\n",
    "fig, ax = plt.subplots(figsize=(8, 6))\n",
    "\n",
    "ax.bar(bin_center, hist_data, width=np.diff(hist_bin), align=\"center\", edgecolor=\"k\", color=\"blue\", zorder=-1, label='observed')\n",
    "ax.plot(bin_center, Y_pred, c='r', linewidth=2, label='fitted')\n",
    "ax.legend()"
   ]
  },
  {
   "cell_type": "code",
   "execution_count": 22,
   "metadata": {
    "ExecuteTime": {
     "end_time": "2020-07-01T22:32:19.456980Z",
     "start_time": "2020-07-01T22:32:19.449001Z"
    }
   },
   "outputs": [],
   "source": [
    "def calc_fdr(z_vec: np.array) -> np.array:\n",
    "    # calcualte the local false discovery rate. \n",
    "    pi0 = 1;\n",
    "    #f0 = norm.pdf(val)\n",
    "    model = PolyPoissonReg(df=4, fit_density = True, do_orth = True)\n",
    "    output = model.fit(z_vec)\n",
    "    f1 = output['Y_pred']\n",
    "    bin_center = output['bin_center']\n",
    "    f0 = norm.pdf(bin_center)\n",
    "    fdr = pi0 * f0/ f1\n",
    "    return bin_center, fdr"
   ]
  },
  {
   "cell_type": "code",
   "execution_count": 23,
   "metadata": {
    "ExecuteTime": {
     "end_time": "2020-07-01T22:32:23.146903Z",
     "start_time": "2020-07-01T22:32:22.955792Z"
    }
   },
   "outputs": [
    {
     "data": {
      "image/png": "[encoded data removed]",
      "text/plain": [
       "<Figure size 432x288 with 1 Axes>"
      ]
     },
     "metadata": {
      "needs_background": "light"
     },
     "output_type": "display_data"
    }
   ],
   "source": [
    "bin_center, fdr = calc_fdr(z)\n",
    "plt.plot(vals, Fdr, label = 'Fdr')\n",
    "plt.plot(vals, 0.2 * np.ones((len(vals), 1)), '--')\n",
    "plt.plot(bin_center, fdr, label = 'local fdr')\n",
    "plt.legend()\n",
    "# the point where the bin_center cross the 0.2\n",
    "lower_cross = max(bin_center[(fdr<0.2)&(bin_center<0)])\n",
    "upper_cross = min(bin_center[(fdr<0.2)&(bin_center>0)])"
   ]
  },
  {
   "cell_type": "markdown",
   "metadata": {
    "ExecuteTime": {
     "end_time": "2020-07-01T18:59:09.758491Z",
     "start_time": "2020-07-01T18:59:09.751510Z"
    }
   },
   "source": [
    "The local fdr is less than $0.2$ for $z<-3.51$ and for $z>3.45$. It's slightly different than in the book, which is -3.40 and 3.34. "
   ]
  },
  {
   "cell_type": "markdown",
   "metadata": {},
   "source": [
    "Number of genes that has z-stat below -3.51:"
   ]
  },
  {
   "cell_type": "code",
   "execution_count": 25,
   "metadata": {
    "ExecuteTime": {
     "end_time": "2020-07-01T22:33:08.494493Z",
     "start_time": "2020-07-01T22:33:08.485011Z"
    }
   },
   "outputs": [
    {
     "data": {
      "text/plain": [
       "21"
      ]
     },
     "execution_count": 25,
     "metadata": {},
     "output_type": "execute_result"
    }
   ],
   "source": [
    "len(z[(z<lower_cross)])"
   ]
  },
  {
   "cell_type": "markdown",
   "metadata": {},
   "source": [
    "Number of genes that has z-stat above 3.45: "
   ]
  },
  {
   "cell_type": "code",
   "execution_count": 26,
   "metadata": {
    "ExecuteTime": {
     "end_time": "2020-07-01T22:33:15.896861Z",
     "start_time": "2020-07-01T22:33:15.888882Z"
    }
   },
   "outputs": [
    {
     "data": {
      "text/plain": [
       "22"
      ]
     },
     "execution_count": 26,
     "metadata": {},
     "output_type": "execute_result"
    }
   ],
   "source": [
    "len(z[(z>upper_cross)])"
   ]
  }
 ],
 "metadata": {
  "kernelspec": {
   "display_name": "Python 3",
   "language": "python",
   "name": "python3"
  },
  "language_info": {
   "codemirror_mode": {
    "name": "ipython",
    "version": 3
   },
   "file_extension": ".py",
   "mimetype": "text/x-python",
   "name": "python",
   "nbconvert_exporter": "python",
   "pygments_lexer": "ipython3",
   "version": "3.7.1"
  },
  "toc": {
   "base_numbering": 1,
   "nav_menu": {},
   "number_sections": true,
   "sideBar": true,
   "skip_h1_title": false,
   "title_cell": "Table of Contents",
   "title_sidebar": "Contents",
   "toc_cell": false,
   "toc_position": {
    "height": "calc(100% - 180px)",
    "left": "10px",
    "top": "150px",
    "width": "183.48px"
   },
   "toc_section_display": true,
   "toc_window_display": true
  }
 },
 "nbformat": 4,
 "nbformat_minor": 2
}
