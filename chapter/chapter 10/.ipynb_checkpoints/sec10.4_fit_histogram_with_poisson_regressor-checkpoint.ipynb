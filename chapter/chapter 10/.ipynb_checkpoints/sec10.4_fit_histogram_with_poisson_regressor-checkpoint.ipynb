{
 "cells": [
  {
   "cell_type": "code",
   "execution_count": 2,
   "metadata": {
    "ExecuteTime": {
     "end_time": "2020-07-01T22:36:09.744927Z",
     "start_time": "2020-07-01T22:36:09.740193Z"
    }
   },
   "outputs": [],
   "source": [
    "import numpy as np\n",
    "import pandas as pd\n",
    "import matplotlib.pyplot as plt\n",
    "from scipy import stats, linalg\n",
    "from sklearn.linear_model import PoissonRegressor"
   ]
  },
  {
   "cell_type": "code",
   "execution_count": 3,
   "metadata": {
    "ExecuteTime": {
     "end_time": "2020-07-01T22:36:10.264943Z",
     "start_time": "2020-07-01T22:36:10.237977Z"
    }
   },
   "outputs": [],
   "source": [
    "gfr = pd.read_csv(r\"./data/gfr.txt\", delimiter=\" \", header=None, names=[\"gfr\"])\n",
    "gfr = gfr.gfr.values"
   ]
  },
  {
   "cell_type": "code",
   "execution_count": 4,
   "metadata": {
    "ExecuteTime": {
     "end_time": "2020-07-01T22:36:10.770021Z",
     "start_time": "2020-07-01T22:36:10.752967Z"
    }
   },
   "outputs": [],
   "source": [
    "hist_data, hist_bin = np.histogram(gfr, bins = np.arange(13.5, 112, 3))\n",
    "bin_centers = 0.5 * (hist_bin[:-1] + hist_bin[1:])"
   ]
  },
  {
   "cell_type": "code",
   "execution_count": 5,
   "metadata": {
    "ExecuteTime": {
     "end_time": "2020-07-01T22:36:11.437619Z",
     "start_time": "2020-07-01T22:36:11.429642Z"
    }
   },
   "outputs": [],
   "source": [
    "def get_poly(x: np.array, df: int, orth: bool = False):\n",
    "    x_mat = np.transpose([np.hstack(x**k) for k in np.arange(0, df+1)])\n",
    "    if orth:\n",
    "        x_mat = np.linalg.qr(x_mat)[0]\n",
    "        x_mat[:, 0] = 1\n",
    "    columns = [\"x{}\".format(i) for i in range(df + 1)]\n",
    "    return pd.DataFrame(x_mat, columns=columns)\n",
    "    "
   ]
  },
  {
   "cell_type": "code",
   "execution_count": 6,
   "metadata": {
    "ExecuteTime": {
     "end_time": "2020-07-01T22:36:11.902650Z",
     "start_time": "2020-07-01T22:36:11.896308Z"
    }
   },
   "outputs": [],
   "source": [
    "def poisson_reg(x, Y, df, orth = False):\n",
    "    x_mat = get_poly(x, df, orth)\n",
    "    model = PoissonRegressor(alpha = 0,  max_iter=2000, fit_intercept = False)\n",
    "    model.fit(x_mat, Y)\n",
    "    Y_pred = model.predict(x_mat)    \n",
    "    return Y_pred"
   ]
  },
  {
   "cell_type": "code",
   "execution_count": 7,
   "metadata": {
    "ExecuteTime": {
     "end_time": "2020-07-01T22:36:12.812043Z",
     "start_time": "2020-07-01T22:36:12.560646Z"
    }
   },
   "outputs": [
    {
     "data": {
      "text/plain": [
       "[<matplotlib.lines.Line2D at 0x1c90b188940>]"
      ]
     },
     "execution_count": 7,
     "metadata": {},
     "output_type": "execute_result"
    },
    {
     "data": {
      "image/png": "[encoded data removed]",
      "text/plain": [
       "<Figure size 576x432 with 1 Axes>"
      ]
     },
     "metadata": {
      "needs_background": "light"
     },
     "output_type": "display_data"
    }
   ],
   "source": [
    "Y_pred = poisson_reg(bin_centers, hist_data, df = 4, orth = True)\n",
    "\n",
    "fig, ax = plt.subplots(figsize = (8, 6))\n",
    "ax.bar(bin_centers, hist_data, width = np.diff(hist_bin), align = 'center', edgecolor = 'k', color = 'orange',  zorder = -1,)\n",
    "ax.plot(bin_centers, Y_pred, color = 'b', linewidth = 2)"
   ]
  },
  {
   "cell_type": "code",
   "execution_count": 8,
   "metadata": {
    "ExecuteTime": {
     "end_time": "2020-07-01T22:36:13.277617Z",
     "start_time": "2020-07-01T22:36:13.002083Z"
    }
   },
   "outputs": [
    {
     "name": "stderr",
     "output_type": "stream",
     "text": [
      "C:\\Users\\zhuoz\\Anaconda3\\lib\\site-packages\\sklearn\\_loss\\glm_distribution.py:132: RuntimeWarning: invalid value encountered in true_divide\n",
      "  return -2 * (y - y_pred) / self.unit_variance(y_pred)\n",
      "C:\\Users\\zhuoz\\Anaconda3\\lib\\site-packages\\sklearn\\_loss\\glm_distribution.py:315: RuntimeWarning: invalid value encountered in add\n",
      "  dev = 2 * (xlogy(y, y/y_pred) - y + y_pred)\n",
      "C:\\Users\\zhuoz\\Anaconda3\\lib\\site-packages\\sklearn\\linear_model\\_glm\\glm.py:285: ConvergenceWarning: lbfgs failed to converge (status=2):\n",
      "ABNORMAL_TERMINATION_IN_LNSRCH.\n",
      "\n",
      "Increase the number of iterations (max_iter) or scale the data as shown in:\n",
      "    https://scikit-learn.org/stable/modules/preprocessing.html\n",
      "  self.n_iter_ = _check_optimize_result(\"lbfgs\", opt_res)\n"
     ]
    },
    {
     "data": {
      "text/plain": [
       "[<matplotlib.lines.Line2D at 0x1c90b1c4898>]"
      ]
     },
     "execution_count": 8,
     "metadata": {},
     "output_type": "execute_result"
    },
    {
     "data": {
      "image/png": "[encoded data removed]",
      "text/plain": [
       "<Figure size 576x432 with 1 Axes>"
      ]
     },
     "metadata": {
      "needs_background": "light"
     },
     "output_type": "display_data"
    }
   ],
   "source": [
    "Y_pred = poisson_reg(bin_centers, hist_data, df = 4, orth = False)\n",
    "\n",
    "fig, ax = plt.subplots(figsize = (8, 6))\n",
    "ax.bar(bin_centers, hist_data, width = np.diff(hist_bin), align = 'center', edgecolor = 'k', color = 'orange',  zorder = -1,)\n",
    "ax.plot(bin_centers, Y_pred, color = 'b', linewidth = 2)"
   ]
  },
  {
   "cell_type": "markdown",
   "metadata": {},
   "source": [
    "**Takeaway**: to use the PoissonRegressor, the orthed data need to be used. "
   ]
  },
  {
   "cell_type": "code",
   "execution_count": null,
   "metadata": {},
   "outputs": [],
   "source": []
  }
 ],
 "metadata": {
  "kernelspec": {
   "display_name": "Python 3",
   "language": "python",
   "name": "python3"
  },
  "language_info": {
   "codemirror_mode": {
    "name": "ipython",
    "version": 3
   },
   "file_extension": ".py",
   "mimetype": "text/x-python",
   "name": "python",
   "nbconvert_exporter": "python",
   "pygments_lexer": "ipython3",
   "version": "3.7.1"
  },
  "toc": {
   "base_numbering": 1,
   "nav_menu": {},
   "number_sections": true,
   "sideBar": true,
   "skip_h1_title": false,
   "title_cell": "Table of Contents",
   "title_sidebar": "Contents",
   "toc_cell": false,
   "toc_position": {},
   "toc_section_display": true,
   "toc_window_display": false
  }
 },
 "nbformat": 4,
 "nbformat_minor": 2
}
